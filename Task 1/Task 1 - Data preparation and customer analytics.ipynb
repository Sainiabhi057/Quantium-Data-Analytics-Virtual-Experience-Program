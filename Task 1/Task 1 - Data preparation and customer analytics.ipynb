{
 "cells": [
  {
   "cell_type": "markdown",
   "id": "b8dd5ca6",
   "metadata": {},
   "source": [
    "###### Name - Abhinav saini\n",
    "\n",
    "# Task 1 :-\n",
    "\n",
    "# Data preparation and customer analytics\n",
    "\n",
    "Conduct analysis on your client's transaction dataset and identify customer purchasing behaviours to generate insights and provide commercial recommendations.\n",
    "\n",
    "##### The background information for this task :-\n",
    "\n",
    "        ♦ I am part of Quantium’s retail analytics team and have been approached by our client, the Category Manager for Chips, who wants to better understand the types of customers who purchase Chips and their purchasing behaviour within the region.\n",
    "        ♦ The insights from my analysis will feed into the supermarket’s strategic plan for the chip category in the next half year.\n",
    "   #### Here is task :-\n",
    "   \n",
    "       ♦ I need to present a strategic recommendation to Julia that is supported by data which she can then use for the upcoming category review however to do so I need to analyse the data to understand the current purchasing trends and behaviours. The client is particularly interested in customer segments and their chip purchasing behaviour. Consider what metrics would help describe the customers’ purchasing behaviour.\n",
    "       \n",
    "               • Examine transaction data - check for missing data, anomalies, outliers and clean them\n",
    "               • Examine customer data - similar to above transaction data\n",
    "               • Data analysis and customer segments - create charts and graphs, note trends and insights\n",
    "               • Deep dive into customer segments - determine which segments should be targetted"
   ]
  },
  {
   "cell_type": "markdown",
   "id": "82930745",
   "metadata": {},
   "source": [
    "#### Importing Necessary Libraries"
   ]
  },
  {
   "cell_type": "code",
   "execution_count": 1,
   "id": "c757b8a5",
   "metadata": {},
   "outputs": [],
   "source": [
    "import pandas as pd\n",
    "import numpy as np\n",
    "\n",
    "# for data visualization \n",
    "import matplotlib.pyplot as plt\n",
    "%matplotlib inline\n",
    "import seaborn as sns\n",
    "\n",
    "import warnings\n",
    "warnings.filterwarnings('ignore')"
   ]
  },
  {
   "cell_type": "markdown",
   "id": "a344e5a3",
   "metadata": {},
   "source": [
    "#### Importing Dataset"
   ]
  },
  {
   "cell_type": "code",
   "execution_count": 2,
   "id": "68f235b2",
   "metadata": {},
   "outputs": [
    {
     "data": {
      "text/html": [
       "<div>\n",
       "<style scoped>\n",
       "    .dataframe tbody tr th:only-of-type {\n",
       "        vertical-align: middle;\n",
       "    }\n",
       "\n",
       "    .dataframe tbody tr th {\n",
       "        vertical-align: top;\n",
       "    }\n",
       "\n",
       "    .dataframe thead th {\n",
       "        text-align: right;\n",
       "    }\n",
       "</style>\n",
       "<table border=\"1\" class=\"dataframe\">\n",
       "  <thead>\n",
       "    <tr style=\"text-align: right;\">\n",
       "      <th></th>\n",
       "      <th>LYLTY_CARD_NBR</th>\n",
       "      <th>LIFESTAGE</th>\n",
       "      <th>PREMIUM_CUSTOMER</th>\n",
       "    </tr>\n",
       "  </thead>\n",
       "  <tbody>\n",
       "    <tr>\n",
       "      <th>0</th>\n",
       "      <td>1000</td>\n",
       "      <td>YOUNG SINGLES/COUPLES</td>\n",
       "      <td>Premium</td>\n",
       "    </tr>\n",
       "    <tr>\n",
       "      <th>1</th>\n",
       "      <td>1002</td>\n",
       "      <td>YOUNG SINGLES/COUPLES</td>\n",
       "      <td>Mainstream</td>\n",
       "    </tr>\n",
       "    <tr>\n",
       "      <th>2</th>\n",
       "      <td>1003</td>\n",
       "      <td>YOUNG FAMILIES</td>\n",
       "      <td>Budget</td>\n",
       "    </tr>\n",
       "    <tr>\n",
       "      <th>3</th>\n",
       "      <td>1004</td>\n",
       "      <td>OLDER SINGLES/COUPLES</td>\n",
       "      <td>Mainstream</td>\n",
       "    </tr>\n",
       "    <tr>\n",
       "      <th>4</th>\n",
       "      <td>1005</td>\n",
       "      <td>MIDAGE SINGLES/COUPLES</td>\n",
       "      <td>Mainstream</td>\n",
       "    </tr>\n",
       "  </tbody>\n",
       "</table>\n",
       "</div>"
      ],
      "text/plain": [
       "   LYLTY_CARD_NBR               LIFESTAGE PREMIUM_CUSTOMER\n",
       "0            1000   YOUNG SINGLES/COUPLES          Premium\n",
       "1            1002   YOUNG SINGLES/COUPLES       Mainstream\n",
       "2            1003          YOUNG FAMILIES           Budget\n",
       "3            1004   OLDER SINGLES/COUPLES       Mainstream\n",
       "4            1005  MIDAGE SINGLES/COUPLES       Mainstream"
      ]
     },
     "execution_count": 2,
     "metadata": {},
     "output_type": "execute_result"
    }
   ],
   "source": [
    "purchase_data = pd.read_csv('QVI_purchase_behaviour.csv')\n",
    "purchase_data.head()"
   ]
  },
  {
   "cell_type": "code",
   "execution_count": 3,
   "id": "f516c97e",
   "metadata": {},
   "outputs": [
    {
     "data": {
      "text/html": [
       "<div>\n",
       "<style scoped>\n",
       "    .dataframe tbody tr th:only-of-type {\n",
       "        vertical-align: middle;\n",
       "    }\n",
       "\n",
       "    .dataframe tbody tr th {\n",
       "        vertical-align: top;\n",
       "    }\n",
       "\n",
       "    .dataframe thead th {\n",
       "        text-align: right;\n",
       "    }\n",
       "</style>\n",
       "<table border=\"1\" class=\"dataframe\">\n",
       "  <thead>\n",
       "    <tr style=\"text-align: right;\">\n",
       "      <th></th>\n",
       "      <th>DATE</th>\n",
       "      <th>STORE_NBR</th>\n",
       "      <th>LYLTY_CARD_NBR</th>\n",
       "      <th>TXN_ID</th>\n",
       "      <th>PROD_NBR</th>\n",
       "      <th>PROD_NAME</th>\n",
       "      <th>PROD_QTY</th>\n",
       "      <th>TOT_SALES</th>\n",
       "    </tr>\n",
       "  </thead>\n",
       "  <tbody>\n",
       "    <tr>\n",
       "      <th>0</th>\n",
       "      <td>43390</td>\n",
       "      <td>1</td>\n",
       "      <td>1000</td>\n",
       "      <td>1</td>\n",
       "      <td>5</td>\n",
       "      <td>Natural Chip        Compny SeaSalt175g</td>\n",
       "      <td>2</td>\n",
       "      <td>6.0</td>\n",
       "    </tr>\n",
       "    <tr>\n",
       "      <th>1</th>\n",
       "      <td>43599</td>\n",
       "      <td>1</td>\n",
       "      <td>1307</td>\n",
       "      <td>348</td>\n",
       "      <td>66</td>\n",
       "      <td>CCs Nacho Cheese    175g</td>\n",
       "      <td>3</td>\n",
       "      <td>6.3</td>\n",
       "    </tr>\n",
       "    <tr>\n",
       "      <th>2</th>\n",
       "      <td>43605</td>\n",
       "      <td>1</td>\n",
       "      <td>1343</td>\n",
       "      <td>383</td>\n",
       "      <td>61</td>\n",
       "      <td>Smiths Crinkle Cut  Chips Chicken 170g</td>\n",
       "      <td>2</td>\n",
       "      <td>2.9</td>\n",
       "    </tr>\n",
       "    <tr>\n",
       "      <th>3</th>\n",
       "      <td>43329</td>\n",
       "      <td>2</td>\n",
       "      <td>2373</td>\n",
       "      <td>974</td>\n",
       "      <td>69</td>\n",
       "      <td>Smiths Chip Thinly  S/Cream&amp;Onion 175g</td>\n",
       "      <td>5</td>\n",
       "      <td>15.0</td>\n",
       "    </tr>\n",
       "    <tr>\n",
       "      <th>4</th>\n",
       "      <td>43330</td>\n",
       "      <td>2</td>\n",
       "      <td>2426</td>\n",
       "      <td>1038</td>\n",
       "      <td>108</td>\n",
       "      <td>Kettle Tortilla ChpsHny&amp;Jlpno Chili 150g</td>\n",
       "      <td>3</td>\n",
       "      <td>13.8</td>\n",
       "    </tr>\n",
       "  </tbody>\n",
       "</table>\n",
       "</div>"
      ],
      "text/plain": [
       "    DATE  STORE_NBR  LYLTY_CARD_NBR  TXN_ID  PROD_NBR  \\\n",
       "0  43390          1            1000       1         5   \n",
       "1  43599          1            1307     348        66   \n",
       "2  43605          1            1343     383        61   \n",
       "3  43329          2            2373     974        69   \n",
       "4  43330          2            2426    1038       108   \n",
       "\n",
       "                                  PROD_NAME  PROD_QTY  TOT_SALES  \n",
       "0    Natural Chip        Compny SeaSalt175g         2        6.0  \n",
       "1                  CCs Nacho Cheese    175g         3        6.3  \n",
       "2    Smiths Crinkle Cut  Chips Chicken 170g         2        2.9  \n",
       "3    Smiths Chip Thinly  S/Cream&Onion 175g         5       15.0  \n",
       "4  Kettle Tortilla ChpsHny&Jlpno Chili 150g         3       13.8  "
      ]
     },
     "execution_count": 3,
     "metadata": {},
     "output_type": "execute_result"
    }
   ],
   "source": [
    "transaction_data = pd.read_excel('QVI_transaction_data.xlsx')\n",
    "transaction_data.head()"
   ]
  },
  {
   "cell_type": "markdown",
   "id": "e8e43061",
   "metadata": {},
   "source": [
    "## Data Exploration"
   ]
  },
  {
   "cell_type": "code",
   "execution_count": 4,
   "id": "11e71d46",
   "metadata": {},
   "outputs": [
    {
     "name": "stdout",
     "output_type": "stream",
     "text": [
      "<class 'pandas.core.frame.DataFrame'>\n",
      "RangeIndex: 72637 entries, 0 to 72636\n",
      "Data columns (total 3 columns):\n",
      " #   Column            Non-Null Count  Dtype \n",
      "---  ------            --------------  ----- \n",
      " 0   LYLTY_CARD_NBR    72637 non-null  int64 \n",
      " 1   LIFESTAGE         72637 non-null  object\n",
      " 2   PREMIUM_CUSTOMER  72637 non-null  object\n",
      "dtypes: int64(1), object(2)\n",
      "memory usage: 1.7+ MB\n"
     ]
    }
   ],
   "source": [
    "# Basic Information of dataset(QVI_purchase_behaviour)\n",
    "purchase_data.info()"
   ]
  },
  {
   "cell_type": "code",
   "execution_count": 5,
   "id": "0890d19d",
   "metadata": {},
   "outputs": [
    {
     "name": "stdout",
     "output_type": "stream",
     "text": [
      "<class 'pandas.core.frame.DataFrame'>\n",
      "RangeIndex: 264836 entries, 0 to 264835\n",
      "Data columns (total 8 columns):\n",
      " #   Column          Non-Null Count   Dtype  \n",
      "---  ------          --------------   -----  \n",
      " 0   DATE            264836 non-null  int64  \n",
      " 1   STORE_NBR       264836 non-null  int64  \n",
      " 2   LYLTY_CARD_NBR  264836 non-null  int64  \n",
      " 3   TXN_ID          264836 non-null  int64  \n",
      " 4   PROD_NBR        264836 non-null  int64  \n",
      " 5   PROD_NAME       264836 non-null  object \n",
      " 6   PROD_QTY        264836 non-null  int64  \n",
      " 7   TOT_SALES       264836 non-null  float64\n",
      "dtypes: float64(1), int64(6), object(1)\n",
      "memory usage: 16.2+ MB\n"
     ]
    }
   ],
   "source": [
    "# Basic Information of dataset(QVI_transaction_data)\n",
    "transaction_data.info()"
   ]
  },
  {
   "cell_type": "code",
   "execution_count": 6,
   "id": "ee73d8a9",
   "metadata": {},
   "outputs": [
    {
     "data": {
      "text/html": [
       "<div>\n",
       "<style scoped>\n",
       "    .dataframe tbody tr th:only-of-type {\n",
       "        vertical-align: middle;\n",
       "    }\n",
       "\n",
       "    .dataframe tbody tr th {\n",
       "        vertical-align: top;\n",
       "    }\n",
       "\n",
       "    .dataframe thead th {\n",
       "        text-align: right;\n",
       "    }\n",
       "</style>\n",
       "<table border=\"1\" class=\"dataframe\">\n",
       "  <thead>\n",
       "    <tr style=\"text-align: right;\">\n",
       "      <th></th>\n",
       "      <th>count</th>\n",
       "      <th>mean</th>\n",
       "      <th>std</th>\n",
       "      <th>min</th>\n",
       "      <th>25%</th>\n",
       "      <th>50%</th>\n",
       "      <th>75%</th>\n",
       "      <th>max</th>\n",
       "    </tr>\n",
       "  </thead>\n",
       "  <tbody>\n",
       "    <tr>\n",
       "      <th>LYLTY_CARD_NBR</th>\n",
       "      <td>72637.0</td>\n",
       "      <td>136185.93177</td>\n",
       "      <td>89892.932014</td>\n",
       "      <td>1000.0</td>\n",
       "      <td>66202.0</td>\n",
       "      <td>134040.0</td>\n",
       "      <td>203375.0</td>\n",
       "      <td>2373711.0</td>\n",
       "    </tr>\n",
       "  </tbody>\n",
       "</table>\n",
       "</div>"
      ],
      "text/plain": [
       "                  count          mean           std     min      25%  \\\n",
       "LYLTY_CARD_NBR  72637.0  136185.93177  89892.932014  1000.0  66202.0   \n",
       "\n",
       "                     50%       75%        max  \n",
       "LYLTY_CARD_NBR  134040.0  203375.0  2373711.0  "
      ]
     },
     "execution_count": 6,
     "metadata": {},
     "output_type": "execute_result"
    }
   ],
   "source": [
    "# Statistical Summary of QVI_purchase_behaviour data\n",
    "purchase_data.describe().T"
   ]
  },
  {
   "cell_type": "code",
   "execution_count": 7,
   "id": "71867cf1",
   "metadata": {},
   "outputs": [
    {
     "data": {
      "text/html": [
       "<div>\n",
       "<style scoped>\n",
       "    .dataframe tbody tr th:only-of-type {\n",
       "        vertical-align: middle;\n",
       "    }\n",
       "\n",
       "    .dataframe tbody tr th {\n",
       "        vertical-align: top;\n",
       "    }\n",
       "\n",
       "    .dataframe thead th {\n",
       "        text-align: right;\n",
       "    }\n",
       "</style>\n",
       "<table border=\"1\" class=\"dataframe\">\n",
       "  <thead>\n",
       "    <tr style=\"text-align: right;\">\n",
       "      <th></th>\n",
       "      <th>count</th>\n",
       "      <th>mean</th>\n",
       "      <th>std</th>\n",
       "      <th>min</th>\n",
       "      <th>25%</th>\n",
       "      <th>50%</th>\n",
       "      <th>75%</th>\n",
       "      <th>max</th>\n",
       "    </tr>\n",
       "  </thead>\n",
       "  <tbody>\n",
       "    <tr>\n",
       "      <th>DATE</th>\n",
       "      <td>264836.0</td>\n",
       "      <td>43464.036260</td>\n",
       "      <td>105.389282</td>\n",
       "      <td>43282.0</td>\n",
       "      <td>43373.0</td>\n",
       "      <td>43464.0</td>\n",
       "      <td>43555.00</td>\n",
       "      <td>43646.0</td>\n",
       "    </tr>\n",
       "    <tr>\n",
       "      <th>STORE_NBR</th>\n",
       "      <td>264836.0</td>\n",
       "      <td>135.080110</td>\n",
       "      <td>76.784180</td>\n",
       "      <td>1.0</td>\n",
       "      <td>70.0</td>\n",
       "      <td>130.0</td>\n",
       "      <td>203.00</td>\n",
       "      <td>272.0</td>\n",
       "    </tr>\n",
       "    <tr>\n",
       "      <th>LYLTY_CARD_NBR</th>\n",
       "      <td>264836.0</td>\n",
       "      <td>135549.476404</td>\n",
       "      <td>80579.978022</td>\n",
       "      <td>1000.0</td>\n",
       "      <td>70021.0</td>\n",
       "      <td>130357.5</td>\n",
       "      <td>203094.25</td>\n",
       "      <td>2373711.0</td>\n",
       "    </tr>\n",
       "    <tr>\n",
       "      <th>TXN_ID</th>\n",
       "      <td>264836.0</td>\n",
       "      <td>135158.310815</td>\n",
       "      <td>78133.026026</td>\n",
       "      <td>1.0</td>\n",
       "      <td>67601.5</td>\n",
       "      <td>135137.5</td>\n",
       "      <td>202701.25</td>\n",
       "      <td>2415841.0</td>\n",
       "    </tr>\n",
       "    <tr>\n",
       "      <th>PROD_NBR</th>\n",
       "      <td>264836.0</td>\n",
       "      <td>56.583157</td>\n",
       "      <td>32.826638</td>\n",
       "      <td>1.0</td>\n",
       "      <td>28.0</td>\n",
       "      <td>56.0</td>\n",
       "      <td>85.00</td>\n",
       "      <td>114.0</td>\n",
       "    </tr>\n",
       "    <tr>\n",
       "      <th>PROD_QTY</th>\n",
       "      <td>264836.0</td>\n",
       "      <td>1.907309</td>\n",
       "      <td>0.643654</td>\n",
       "      <td>1.0</td>\n",
       "      <td>2.0</td>\n",
       "      <td>2.0</td>\n",
       "      <td>2.00</td>\n",
       "      <td>200.0</td>\n",
       "    </tr>\n",
       "    <tr>\n",
       "      <th>TOT_SALES</th>\n",
       "      <td>264836.0</td>\n",
       "      <td>7.304200</td>\n",
       "      <td>3.083226</td>\n",
       "      <td>1.5</td>\n",
       "      <td>5.4</td>\n",
       "      <td>7.4</td>\n",
       "      <td>9.20</td>\n",
       "      <td>650.0</td>\n",
       "    </tr>\n",
       "  </tbody>\n",
       "</table>\n",
       "</div>"
      ],
      "text/plain": [
       "                   count           mean           std      min      25%  \\\n",
       "DATE            264836.0   43464.036260    105.389282  43282.0  43373.0   \n",
       "STORE_NBR       264836.0     135.080110     76.784180      1.0     70.0   \n",
       "LYLTY_CARD_NBR  264836.0  135549.476404  80579.978022   1000.0  70021.0   \n",
       "TXN_ID          264836.0  135158.310815  78133.026026      1.0  67601.5   \n",
       "PROD_NBR        264836.0      56.583157     32.826638      1.0     28.0   \n",
       "PROD_QTY        264836.0       1.907309      0.643654      1.0      2.0   \n",
       "TOT_SALES       264836.0       7.304200      3.083226      1.5      5.4   \n",
       "\n",
       "                     50%        75%        max  \n",
       "DATE             43464.0   43555.00    43646.0  \n",
       "STORE_NBR          130.0     203.00      272.0  \n",
       "LYLTY_CARD_NBR  130357.5  203094.25  2373711.0  \n",
       "TXN_ID          135137.5  202701.25  2415841.0  \n",
       "PROD_NBR            56.0      85.00      114.0  \n",
       "PROD_QTY             2.0       2.00      200.0  \n",
       "TOT_SALES            7.4       9.20      650.0  "
      ]
     },
     "execution_count": 7,
     "metadata": {},
     "output_type": "execute_result"
    }
   ],
   "source": [
    "# Statistical Summary of QVI_transaction_data data\n",
    "transaction_data.describe().T"
   ]
  },
  {
   "cell_type": "markdown",
   "id": "602ae5b5",
   "metadata": {},
   "source": [
    "#### Checking missing values"
   ]
  },
  {
   "cell_type": "code",
   "execution_count": 8,
   "id": "f921903e",
   "metadata": {},
   "outputs": [
    {
     "data": {
      "image/png": "[encoded data removed]",
      "text/plain": [
       "<Figure size 640x480 with 2 Axes>"
      ]
     },
     "metadata": {},
     "output_type": "display_data"
    }
   ],
   "source": [
    "### Checking missing values of QVI_purchase_behaviour data\n",
    "sns.heatmap(purchase_data.isnull())\n",
    "plt.show()"
   ]
  },
  {
   "cell_type": "code",
   "execution_count": 9,
   "id": "58511c8e",
   "metadata": {},
   "outputs": [
    {
     "data": {
      "text/plain": [
       "LYLTY_CARD_NBR      0\n",
       "LIFESTAGE           0\n",
       "PREMIUM_CUSTOMER    0\n",
       "dtype: int64"
      ]
     },
     "execution_count": 9,
     "metadata": {},
     "output_type": "execute_result"
    }
   ],
   "source": [
    "purchase_data.isnull().sum()"
   ]
  },
  {
   "cell_type": "code",
   "execution_count": 10,
   "id": "b35d7dbd",
   "metadata": {},
   "outputs": [
    {
     "data": {
      "image/png": "[encoded data removed]",
      "text/plain": [
       "<Figure size 640x480 with 2 Axes>"
      ]
     },
     "metadata": {},
     "output_type": "display_data"
    }
   ],
   "source": [
    "### Checking missing values of QVI_transaction_data\n",
    "sns.heatmap(transaction_data.isnull())\n",
    "plt.show()"
   ]
  },
  {
   "cell_type": "code",
   "execution_count": 11,
   "id": "d4ec275d",
   "metadata": {},
   "outputs": [
    {
     "data": {
      "text/plain": [
       "DATE              0\n",
       "STORE_NBR         0\n",
       "LYLTY_CARD_NBR    0\n",
       "TXN_ID            0\n",
       "PROD_NBR          0\n",
       "PROD_NAME         0\n",
       "PROD_QTY          0\n",
       "TOT_SALES         0\n",
       "dtype: int64"
      ]
     },
     "execution_count": 11,
     "metadata": {},
     "output_type": "execute_result"
    }
   ],
   "source": [
    "transaction_data.isnull().sum()"
   ]
  },
  {
   "cell_type": "markdown",
   "id": "d3f5231e",
   "metadata": {},
   "source": [
    "                   •♦• As we can see there is no missing values in both dataset."
   ]
  },
  {
   "cell_type": "markdown",
   "id": "f634437e",
   "metadata": {},
   "source": [
    "#### Analyzing and Removing Outliers"
   ]
  },
  {
   "cell_type": "code",
   "execution_count": 12,
   "id": "69017ef8",
   "metadata": {},
   "outputs": [
    {
     "data": {
      "text/html": [
       "<div>\n",
       "<style scoped>\n",
       "    .dataframe tbody tr th:only-of-type {\n",
       "        vertical-align: middle;\n",
       "    }\n",
       "\n",
       "    .dataframe tbody tr th {\n",
       "        vertical-align: top;\n",
       "    }\n",
       "\n",
       "    .dataframe thead th {\n",
       "        text-align: right;\n",
       "    }\n",
       "</style>\n",
       "<table border=\"1\" class=\"dataframe\">\n",
       "  <thead>\n",
       "    <tr style=\"text-align: right;\">\n",
       "      <th></th>\n",
       "      <th>LYLTY_CARD_NBR</th>\n",
       "      <th>LIFESTAGE</th>\n",
       "      <th>PREMIUM_CUSTOMER</th>\n",
       "      <th>DATE</th>\n",
       "      <th>STORE_NBR</th>\n",
       "      <th>TXN_ID</th>\n",
       "      <th>PROD_NBR</th>\n",
       "      <th>PROD_NAME</th>\n",
       "      <th>PROD_QTY</th>\n",
       "      <th>TOT_SALES</th>\n",
       "    </tr>\n",
       "  </thead>\n",
       "  <tbody>\n",
       "    <tr>\n",
       "      <th>0</th>\n",
       "      <td>1000</td>\n",
       "      <td>YOUNG SINGLES/COUPLES</td>\n",
       "      <td>Premium</td>\n",
       "      <td>43390</td>\n",
       "      <td>1</td>\n",
       "      <td>1</td>\n",
       "      <td>5</td>\n",
       "      <td>Natural Chip        Compny SeaSalt175g</td>\n",
       "      <td>2</td>\n",
       "      <td>6.0</td>\n",
       "    </tr>\n",
       "    <tr>\n",
       "      <th>1</th>\n",
       "      <td>1307</td>\n",
       "      <td>MIDAGE SINGLES/COUPLES</td>\n",
       "      <td>Budget</td>\n",
       "      <td>43599</td>\n",
       "      <td>1</td>\n",
       "      <td>348</td>\n",
       "      <td>66</td>\n",
       "      <td>CCs Nacho Cheese    175g</td>\n",
       "      <td>3</td>\n",
       "      <td>6.3</td>\n",
       "    </tr>\n",
       "    <tr>\n",
       "      <th>2</th>\n",
       "      <td>1343</td>\n",
       "      <td>MIDAGE SINGLES/COUPLES</td>\n",
       "      <td>Budget</td>\n",
       "      <td>43605</td>\n",
       "      <td>1</td>\n",
       "      <td>383</td>\n",
       "      <td>61</td>\n",
       "      <td>Smiths Crinkle Cut  Chips Chicken 170g</td>\n",
       "      <td>2</td>\n",
       "      <td>2.9</td>\n",
       "    </tr>\n",
       "    <tr>\n",
       "      <th>3</th>\n",
       "      <td>2373</td>\n",
       "      <td>MIDAGE SINGLES/COUPLES</td>\n",
       "      <td>Budget</td>\n",
       "      <td>43329</td>\n",
       "      <td>2</td>\n",
       "      <td>974</td>\n",
       "      <td>69</td>\n",
       "      <td>Smiths Chip Thinly  S/Cream&amp;Onion 175g</td>\n",
       "      <td>5</td>\n",
       "      <td>15.0</td>\n",
       "    </tr>\n",
       "    <tr>\n",
       "      <th>4</th>\n",
       "      <td>2426</td>\n",
       "      <td>MIDAGE SINGLES/COUPLES</td>\n",
       "      <td>Budget</td>\n",
       "      <td>43330</td>\n",
       "      <td>2</td>\n",
       "      <td>1038</td>\n",
       "      <td>108</td>\n",
       "      <td>Kettle Tortilla ChpsHny&amp;Jlpno Chili 150g</td>\n",
       "      <td>3</td>\n",
       "      <td>13.8</td>\n",
       "    </tr>\n",
       "  </tbody>\n",
       "</table>\n",
       "</div>"
      ],
      "text/plain": [
       "   LYLTY_CARD_NBR               LIFESTAGE PREMIUM_CUSTOMER   DATE  STORE_NBR  \\\n",
       "0            1000   YOUNG SINGLES/COUPLES          Premium  43390          1   \n",
       "1            1307  MIDAGE SINGLES/COUPLES           Budget  43599          1   \n",
       "2            1343  MIDAGE SINGLES/COUPLES           Budget  43605          1   \n",
       "3            2373  MIDAGE SINGLES/COUPLES           Budget  43329          2   \n",
       "4            2426  MIDAGE SINGLES/COUPLES           Budget  43330          2   \n",
       "\n",
       "   TXN_ID  PROD_NBR                                 PROD_NAME  PROD_QTY  \\\n",
       "0       1         5    Natural Chip        Compny SeaSalt175g         2   \n",
       "1     348        66                  CCs Nacho Cheese    175g         3   \n",
       "2     383        61    Smiths Crinkle Cut  Chips Chicken 170g         2   \n",
       "3     974        69    Smiths Chip Thinly  S/Cream&Onion 175g         5   \n",
       "4    1038       108  Kettle Tortilla ChpsHny&Jlpno Chili 150g         3   \n",
       "\n",
       "   TOT_SALES  \n",
       "0        6.0  \n",
       "1        6.3  \n",
       "2        2.9  \n",
       "3       15.0  \n",
       "4       13.8  "
      ]
     },
     "execution_count": 12,
     "metadata": {},
     "output_type": "execute_result"
    }
   ],
   "source": [
    "### Merging both dataset\n",
    "merged_data = pd.merge(purchase_data, transaction_data, on = 'LYLTY_CARD_NBR', how = 'right')\n",
    "merged_data.head()"
   ]
  },
  {
   "cell_type": "markdown",
   "id": "8934ce92",
   "metadata": {},
   "source": [
    "        •♦• We can see \"DATE\" column is not in proper format, so we will change it."
   ]
  },
  {
   "cell_type": "code",
   "execution_count": 13,
   "id": "68ae0ebf",
   "metadata": {},
   "outputs": [
    {
     "name": "stdout",
     "output_type": "stream",
     "text": [
      "264836\n",
      "264836\n"
     ]
    }
   ],
   "source": [
    "print(len(merged_data))\n",
    "print(len(transaction_data))"
   ]
  },
  {
   "cell_type": "code",
   "execution_count": 14,
   "id": "2db1a701",
   "metadata": {},
   "outputs": [
    {
     "name": "stdout",
     "output_type": "stream",
     "text": [
      "<class 'pandas.core.frame.DataFrame'>\n",
      "RangeIndex: 264836 entries, 0 to 264835\n",
      "Data columns (total 10 columns):\n",
      " #   Column            Non-Null Count   Dtype  \n",
      "---  ------            --------------   -----  \n",
      " 0   LYLTY_CARD_NBR    264836 non-null  int64  \n",
      " 1   LIFESTAGE         264836 non-null  object \n",
      " 2   PREMIUM_CUSTOMER  264836 non-null  object \n",
      " 3   DATE              264836 non-null  int64  \n",
      " 4   STORE_NBR         264836 non-null  int64  \n",
      " 5   TXN_ID            264836 non-null  int64  \n",
      " 6   PROD_NBR          264836 non-null  int64  \n",
      " 7   PROD_NAME         264836 non-null  object \n",
      " 8   PROD_QTY          264836 non-null  int64  \n",
      " 9   TOT_SALES         264836 non-null  float64\n",
      "dtypes: float64(1), int64(6), object(3)\n",
      "memory usage: 20.2+ MB\n"
     ]
    }
   ],
   "source": [
    "### Basic Information of merged_data\n",
    "merged_data.info()"
   ]
  },
  {
   "cell_type": "markdown",
   "id": "b5694a40",
   "metadata": {},
   "source": [
    "#### Date column is not in proper format. so, date column should be datetime format"
   ]
  },
  {
   "cell_type": "code",
   "execution_count": 15,
   "id": "f2b70be9",
   "metadata": {},
   "outputs": [],
   "source": [
    "from datetime import date, timedelta\n",
    "\n",
    "start = date(1899, 12, 30)\n",
    "new_date_format = []\n",
    "for date in merged_data[\"DATE\"]:\n",
    "  delta = timedelta(date)\n",
    "  new_date_format.append(start + delta)"
   ]
  },
  {
   "cell_type": "code",
   "execution_count": 16,
   "id": "60ddbb6e",
   "metadata": {},
   "outputs": [
    {
     "name": "stdout",
     "output_type": "stream",
     "text": [
      "datetime64[ns]\n"
     ]
    }
   ],
   "source": [
    "merged_data[\"DATE\"] = pd.to_datetime(pd.Series(new_date_format))\n",
    "print(merged_data[\"DATE\"].dtype)"
   ]
  },
  {
   "cell_type": "markdown",
   "id": "e7077b01",
   "metadata": {},
   "source": [
    "#### Analyzing the product name column (PROD_NAME) to make sure all items are chips"
   ]
  },
  {
   "cell_type": "code",
   "execution_count": 17,
   "id": "f73c238a",
   "metadata": {},
   "outputs": [
    {
     "data": {
      "text/plain": [
       "array(['Natural Chip        Compny SeaSalt175g',\n",
       "       'CCs Nacho Cheese    175g',\n",
       "       'Smiths Crinkle Cut  Chips Chicken 170g',\n",
       "       'Smiths Chip Thinly  S/Cream&Onion 175g',\n",
       "       'Kettle Tortilla ChpsHny&Jlpno Chili 150g',\n",
       "       'Old El Paso Salsa   Dip Tomato Mild 300g',\n",
       "       'Smiths Crinkle Chips Salt & Vinegar 330g',\n",
       "       'Grain Waves         Sweet Chilli 210g',\n",
       "       'Doritos Corn Chip Mexican Jalapeno 150g',\n",
       "       'Grain Waves Sour    Cream&Chives 210G',\n",
       "       'Kettle Sensations   Siracha Lime 150g',\n",
       "       'Twisties Cheese     270g', 'WW Crinkle Cut      Chicken 175g',\n",
       "       'Thins Chips Light&  Tangy 175g', 'CCs Original 175g',\n",
       "       'Burger Rings 220g', 'NCC Sour Cream &    Garden Chives 175g',\n",
       "       'Doritos Corn Chip Southern Chicken 150g',\n",
       "       'Cheezels Cheese Box 125g', 'Smiths Crinkle      Original 330g',\n",
       "       'Infzns Crn Crnchers Tangy Gcamole 110g',\n",
       "       'Kettle Sea Salt     And Vinegar 175g',\n",
       "       'Smiths Chip Thinly  Cut Original 175g', 'Kettle Original 175g',\n",
       "       'Red Rock Deli Thai  Chilli&Lime 150g',\n",
       "       'Pringles Sthrn FriedChicken 134g', 'Pringles Sweet&Spcy BBQ 134g',\n",
       "       'Red Rock Deli SR    Salsa & Mzzrlla 150g',\n",
       "       'Thins Chips         Originl saltd 175g',\n",
       "       'Red Rock Deli Sp    Salt & Truffle 150G',\n",
       "       'Smiths Thinly       Swt Chli&S/Cream175G', 'Kettle Chilli 175g',\n",
       "       'Doritos Mexicana    170g',\n",
       "       'Smiths Crinkle Cut  French OnionDip 150g',\n",
       "       'Natural ChipCo      Hony Soy Chckn175g',\n",
       "       'Dorito Corn Chp     Supreme 380g', 'Twisties Chicken270g',\n",
       "       'Smiths Thinly Cut   Roast Chicken 175g',\n",
       "       'Smiths Crinkle Cut  Tomato Salsa 150g',\n",
       "       'Kettle Mozzarella   Basil & Pesto 175g',\n",
       "       'Infuzions Thai SweetChili PotatoMix 110g',\n",
       "       'Kettle Sensations   Camembert & Fig 150g',\n",
       "       'Smith Crinkle Cut   Mac N Cheese 150g',\n",
       "       'Kettle Honey Soy    Chicken 175g',\n",
       "       'Thins Chips Seasonedchicken 175g',\n",
       "       'Smiths Crinkle Cut  Salt & Vinegar 170g',\n",
       "       'Infuzions BBQ Rib   Prawn Crackers 110g',\n",
       "       'GrnWves Plus Btroot & Chilli Jam 180g',\n",
       "       'Tyrrells Crisps     Lightly Salted 165g',\n",
       "       'Kettle Sweet Chilli And Sour Cream 175g',\n",
       "       'Doritos Salsa       Medium 300g', 'Kettle 135g Swt Pot Sea Salt',\n",
       "       'Pringles SourCream  Onion 134g',\n",
       "       'Doritos Corn Chips  Original 170g',\n",
       "       'Twisties Cheese     Burger 250g',\n",
       "       'Old El Paso Salsa   Dip Chnky Tom Ht300g',\n",
       "       'Cobs Popd Swt/Chlli &Sr/Cream Chips 110g',\n",
       "       'Woolworths Mild     Salsa 300g',\n",
       "       'Natural Chip Co     Tmato Hrb&Spce 175g',\n",
       "       'Smiths Crinkle Cut  Chips Original 170g',\n",
       "       'Cobs Popd Sea Salt  Chips 110g',\n",
       "       'Smiths Crinkle Cut  Chips Chs&Onion170g',\n",
       "       'French Fries Potato Chips 175g',\n",
       "       'Old El Paso Salsa   Dip Tomato Med 300g',\n",
       "       'Doritos Corn Chips  Cheese Supreme 170g',\n",
       "       'Pringles Original   Crisps 134g',\n",
       "       'RRD Chilli&         Coconut 150g',\n",
       "       'WW Original Corn    Chips 200g',\n",
       "       'Thins Potato Chips  Hot & Spicy 175g',\n",
       "       'Cobs Popd Sour Crm  &Chives Chips 110g',\n",
       "       'Smiths Crnkle Chip  Orgnl Big Bag 380g',\n",
       "       'Doritos Corn Chips  Nacho Cheese 170g',\n",
       "       'Kettle Sensations   BBQ&Maple 150g',\n",
       "       'WW D/Style Chip     Sea Salt 200g',\n",
       "       'Pringles Chicken    Salt Crips 134g',\n",
       "       'WW Original Stacked Chips 160g',\n",
       "       'Smiths Chip Thinly  CutSalt/Vinegr175g', 'Cheezels Cheese 330g',\n",
       "       'Tostitos Lightly    Salted 175g',\n",
       "       'Thins Chips Salt &  Vinegar 175g',\n",
       "       'Smiths Crinkle Cut  Chips Barbecue 170g', 'Cheetos Puffs 165g',\n",
       "       'RRD Sweet Chilli &  Sour Cream 165g',\n",
       "       'WW Crinkle Cut      Original 175g',\n",
       "       'Tostitos Splash Of  Lime 175g', 'Woolworths Medium   Salsa 300g',\n",
       "       'Kettle Tortilla ChpsBtroot&Ricotta 150g',\n",
       "       'CCs Tasty Cheese    175g', 'Woolworths Cheese   Rings 190g',\n",
       "       'Tostitos Smoked     Chipotle 175g', 'Pringles Barbeque   134g',\n",
       "       'WW Supreme Cheese   Corn Chips 200g',\n",
       "       'Pringles Mystery    Flavour 134g',\n",
       "       'Tyrrells Crisps     Ched & Chives 165g',\n",
       "       'Snbts Whlgrn Crisps Cheddr&Mstrd 90g',\n",
       "       'Cheetos Chs & Bacon Balls 190g', 'Pringles Slt Vingar 134g',\n",
       "       'Infuzions SourCream&Herbs Veg Strws 110g',\n",
       "       'Kettle Tortilla ChpsFeta&Garlic 150g',\n",
       "       'Infuzions Mango     Chutny Papadums 70g',\n",
       "       'RRD Steak &         Chimuchurri 150g',\n",
       "       'RRD Honey Soy       Chicken 165g',\n",
       "       'Sunbites Whlegrn    Crisps Frch/Onin 90g',\n",
       "       'RRD Salt & Vinegar  165g', 'Doritos Cheese      Supreme 330g',\n",
       "       'Smiths Crinkle Cut  Snag&Sauce 150g',\n",
       "       'WW Sour Cream &OnionStacked Chips 160g',\n",
       "       'RRD Lime & Pepper   165g',\n",
       "       'Natural ChipCo Sea  Salt & Vinegr 175g',\n",
       "       'Red Rock Deli Chikn&Garlic Aioli 150g',\n",
       "       'RRD SR Slow Rst     Pork Belly 150g', 'RRD Pc Sea Salt     165g',\n",
       "       'Smith Crinkle Cut   Bolognese 150g', 'Doritos Salsa Mild  300g'],\n",
       "      dtype=object)"
      ]
     },
     "execution_count": 17,
     "metadata": {},
     "output_type": "execute_result"
    }
   ],
   "source": [
    "merged_data['PROD_NAME'].unique()"
   ]
  },
  {
   "cell_type": "code",
   "execution_count": 18,
   "id": "222f6af5",
   "metadata": {},
   "outputs": [],
   "source": [
    "split_prods = merged_data[\"PROD_NAME\"].str.replace(r'([0-9]+[gG])','').str.replace(r'[^\\w]',' ').str.split()"
   ]
  },
  {
   "cell_type": "code",
   "execution_count": 19,
   "id": "5399a697",
   "metadata": {},
   "outputs": [
    {
     "name": "stdout",
     "output_type": "stream",
     "text": [
      "175g        60561\n",
      "Chips       49770\n",
      "150g        41633\n",
      "Kettle      41288\n",
      "&           35565\n",
      "            ...  \n",
      "Sunbites     1432\n",
      "Pc           1431\n",
      "NCC          1419\n",
      "Garden       1419\n",
      "Fries        1418\n",
      "Length: 220, dtype: int64\n"
     ]
    }
   ],
   "source": [
    "word_counts = {}\n",
    "def count_words(line):\n",
    "  for word in line:\n",
    "    if word not in word_counts:\n",
    "      word_counts[word] = 1\n",
    "    else:\n",
    "      word_counts[word] += 1\n",
    "split_prods.apply(lambda line: count_words(line))\n",
    "print(pd.Series(word_counts).sort_values(ascending = False))"
   ]
  },
  {
   "cell_type": "code",
   "execution_count": 20,
   "id": "dc40f7fc",
   "metadata": {},
   "outputs": [
    {
     "name": "stdout",
     "output_type": "stream",
     "text": [
      "\n",
      " ----- Statistical Summary of Merged Data ----- \n",
      "\n",
      "       LYLTY_CARD_NBR                           DATE     STORE_NBR  \\\n",
      "count    2.648360e+05                         264836  264836.00000   \n",
      "mean     1.355495e+05  2018-12-30 00:52:12.879215616     135.08011   \n",
      "min      1.000000e+03            2018-07-01 00:00:00       1.00000   \n",
      "25%      7.002100e+04            2018-09-30 00:00:00      70.00000   \n",
      "50%      1.303575e+05            2018-12-30 00:00:00     130.00000   \n",
      "75%      2.030942e+05            2019-03-31 00:00:00     203.00000   \n",
      "max      2.373711e+06            2019-06-30 00:00:00     272.00000   \n",
      "std      8.057998e+04                            NaN      76.78418   \n",
      "\n",
      "             TXN_ID       PROD_NBR       PROD_QTY      TOT_SALES  \n",
      "count  2.648360e+05  264836.000000  264836.000000  264836.000000  \n",
      "mean   1.351583e+05      56.583157       1.907309       7.304200  \n",
      "min    1.000000e+00       1.000000       1.000000       1.500000  \n",
      "25%    6.760150e+04      28.000000       2.000000       5.400000  \n",
      "50%    1.351375e+05      56.000000       2.000000       7.400000  \n",
      "75%    2.027012e+05      85.000000       2.000000       9.200000  \n",
      "max    2.415841e+06     114.000000     200.000000     650.000000  \n",
      "std    7.813303e+04      32.826638       0.643654       3.083226  \n",
      "\n",
      " ----- Basic Information of Merged Data ----- \n",
      "\n",
      "<class 'pandas.core.frame.DataFrame'>\n",
      "RangeIndex: 264836 entries, 0 to 264835\n",
      "Data columns (total 10 columns):\n",
      " #   Column            Non-Null Count   Dtype         \n",
      "---  ------            --------------   -----         \n",
      " 0   LYLTY_CARD_NBR    264836 non-null  int64         \n",
      " 1   LIFESTAGE         264836 non-null  object        \n",
      " 2   PREMIUM_CUSTOMER  264836 non-null  object        \n",
      " 3   DATE              264836 non-null  datetime64[ns]\n",
      " 4   STORE_NBR         264836 non-null  int64         \n",
      " 5   TXN_ID            264836 non-null  int64         \n",
      " 6   PROD_NBR          264836 non-null  int64         \n",
      " 7   PROD_NAME         264836 non-null  object        \n",
      " 8   PROD_QTY          264836 non-null  int64         \n",
      " 9   TOT_SALES         264836 non-null  float64       \n",
      "dtypes: datetime64[ns](1), float64(1), int64(5), object(3)\n",
      "memory usage: 20.2+ MB\n",
      "None\n"
     ]
    }
   ],
   "source": [
    "print(\"\\n ----- Statistical Summary of Merged Data ----- \\n\")\n",
    "print(merged_data.describe())\n",
    "print(\"\\n ----- Basic Information of Merged Data ----- \\n\")\n",
    "print(merged_data.info())"
   ]
  },
  {
   "cell_type": "code",
   "execution_count": 21,
   "id": "acf4a130",
   "metadata": {},
   "outputs": [
    {
     "data": {
      "text/plain": [
       "PROD_QTY\n",
       "(0.8, 50.75]       264834\n",
       "(50.75, 100.5]          0\n",
       "(100.5, 150.25]         0\n",
       "(150.25, 200.0]         2\n",
       "Name: count, dtype: int64"
      ]
     },
     "execution_count": 21,
     "metadata": {},
     "output_type": "execute_result"
    }
   ],
   "source": [
    "merged_data[\"PROD_QTY\"].value_counts(bins=4).sort_index()"
   ]
  },
  {
   "cell_type": "markdown",
   "id": "2b95ebc9",
   "metadata": {},
   "source": [
    "        ♦ From above binning we see that \"PROD_QTY\" values above 50.75"
   ]
  },
  {
   "cell_type": "code",
   "execution_count": 22,
   "id": "0429bab9",
   "metadata": {},
   "outputs": [
    {
     "data": {
      "text/html": [
       "<div>\n",
       "<style scoped>\n",
       "    .dataframe tbody tr th:only-of-type {\n",
       "        vertical-align: middle;\n",
       "    }\n",
       "\n",
       "    .dataframe tbody tr th {\n",
       "        vertical-align: top;\n",
       "    }\n",
       "\n",
       "    .dataframe thead th {\n",
       "        text-align: right;\n",
       "    }\n",
       "</style>\n",
       "<table border=\"1\" class=\"dataframe\">\n",
       "  <thead>\n",
       "    <tr style=\"text-align: right;\">\n",
       "      <th></th>\n",
       "      <th>LYLTY_CARD_NBR</th>\n",
       "      <th>LIFESTAGE</th>\n",
       "      <th>PREMIUM_CUSTOMER</th>\n",
       "      <th>DATE</th>\n",
       "      <th>STORE_NBR</th>\n",
       "      <th>TXN_ID</th>\n",
       "      <th>PROD_NBR</th>\n",
       "      <th>PROD_NAME</th>\n",
       "      <th>PROD_QTY</th>\n",
       "      <th>TOT_SALES</th>\n",
       "    </tr>\n",
       "  </thead>\n",
       "  <tbody>\n",
       "    <tr>\n",
       "      <th>69762</th>\n",
       "      <td>226000</td>\n",
       "      <td>OLDER FAMILIES</td>\n",
       "      <td>Premium</td>\n",
       "      <td>2018-08-19</td>\n",
       "      <td>226</td>\n",
       "      <td>226201</td>\n",
       "      <td>4</td>\n",
       "      <td>Dorito Corn Chp     Supreme 380g</td>\n",
       "      <td>200</td>\n",
       "      <td>650.0</td>\n",
       "    </tr>\n",
       "    <tr>\n",
       "      <th>69763</th>\n",
       "      <td>226000</td>\n",
       "      <td>OLDER FAMILIES</td>\n",
       "      <td>Premium</td>\n",
       "      <td>2019-05-20</td>\n",
       "      <td>226</td>\n",
       "      <td>226210</td>\n",
       "      <td>4</td>\n",
       "      <td>Dorito Corn Chp     Supreme 380g</td>\n",
       "      <td>200</td>\n",
       "      <td>650.0</td>\n",
       "    </tr>\n",
       "    <tr>\n",
       "      <th>217237</th>\n",
       "      <td>201060</td>\n",
       "      <td>YOUNG FAMILIES</td>\n",
       "      <td>Premium</td>\n",
       "      <td>2019-05-18</td>\n",
       "      <td>201</td>\n",
       "      <td>200202</td>\n",
       "      <td>26</td>\n",
       "      <td>Pringles Sweet&amp;Spcy BBQ 134g</td>\n",
       "      <td>5</td>\n",
       "      <td>18.5</td>\n",
       "    </tr>\n",
       "    <tr>\n",
       "      <th>238333</th>\n",
       "      <td>219004</td>\n",
       "      <td>YOUNG SINGLES/COUPLES</td>\n",
       "      <td>Mainstream</td>\n",
       "      <td>2018-08-14</td>\n",
       "      <td>219</td>\n",
       "      <td>218018</td>\n",
       "      <td>25</td>\n",
       "      <td>Pringles SourCream  Onion 134g</td>\n",
       "      <td>5</td>\n",
       "      <td>18.5</td>\n",
       "    </tr>\n",
       "    <tr>\n",
       "      <th>238471</th>\n",
       "      <td>261331</td>\n",
       "      <td>YOUNG SINGLES/COUPLES</td>\n",
       "      <td>Mainstream</td>\n",
       "      <td>2019-05-19</td>\n",
       "      <td>261</td>\n",
       "      <td>261111</td>\n",
       "      <td>87</td>\n",
       "      <td>Infuzions BBQ Rib   Prawn Crackers 110g</td>\n",
       "      <td>5</td>\n",
       "      <td>19.0</td>\n",
       "    </tr>\n",
       "  </tbody>\n",
       "</table>\n",
       "</div>"
      ],
      "text/plain": [
       "        LYLTY_CARD_NBR              LIFESTAGE PREMIUM_CUSTOMER       DATE  \\\n",
       "69762           226000         OLDER FAMILIES          Premium 2018-08-19   \n",
       "69763           226000         OLDER FAMILIES          Premium 2019-05-20   \n",
       "217237          201060         YOUNG FAMILIES          Premium 2019-05-18   \n",
       "238333          219004  YOUNG SINGLES/COUPLES       Mainstream 2018-08-14   \n",
       "238471          261331  YOUNG SINGLES/COUPLES       Mainstream 2019-05-19   \n",
       "\n",
       "        STORE_NBR  TXN_ID  PROD_NBR                                PROD_NAME  \\\n",
       "69762         226  226201         4         Dorito Corn Chp     Supreme 380g   \n",
       "69763         226  226210         4         Dorito Corn Chp     Supreme 380g   \n",
       "217237        201  200202        26             Pringles Sweet&Spcy BBQ 134g   \n",
       "238333        219  218018        25           Pringles SourCream  Onion 134g   \n",
       "238471        261  261111        87  Infuzions BBQ Rib   Prawn Crackers 110g   \n",
       "\n",
       "        PROD_QTY  TOT_SALES  \n",
       "69762        200      650.0  \n",
       "69763        200      650.0  \n",
       "217237         5       18.5  \n",
       "238333         5       18.5  \n",
       "238471         5       19.0  "
      ]
     },
     "execution_count": 22,
     "metadata": {},
     "output_type": "execute_result"
    }
   ],
   "source": [
    "merged_data.sort_values(by=\"PROD_QTY\", ascending=False).head()"
   ]
  },
  {
   "cell_type": "markdown",
   "id": "b99d47b4",
   "metadata": {},
   "source": [
    "        ♦ Two outliers of value 200 in PROD_QTY will be removed. Both entries are by the same customer and will be examined by this customer's transactions."
   ]
  },
  {
   "cell_type": "code",
   "execution_count": 23,
   "id": "bdbddaf8",
   "metadata": {},
   "outputs": [],
   "source": [
    "merged_data = merged_data[merged_data[\"PROD_QTY\"] < 6]"
   ]
  },
  {
   "cell_type": "code",
   "execution_count": 24,
   "id": "dcdd9b76",
   "metadata": {},
   "outputs": [
    {
     "data": {
      "text/plain": [
       "0"
      ]
     },
     "execution_count": 24,
     "metadata": {},
     "output_type": "execute_result"
    }
   ],
   "source": [
    "len(merged_data[merged_data[\"LYLTY_CARD_NBR\"]==226000])"
   ]
  },
  {
   "cell_type": "code",
   "execution_count": 25,
   "id": "716459e3",
   "metadata": {},
   "outputs": [
    {
     "data": {
      "text/plain": [
       "count                           264834\n",
       "mean     2018-12-30 00:52:10.292938240\n",
       "min                2018-07-01 00:00:00\n",
       "25%                2018-09-30 00:00:00\n",
       "50%                2018-12-30 00:00:00\n",
       "75%                2019-03-31 00:00:00\n",
       "max                2019-06-30 00:00:00\n",
       "Name: DATE, dtype: object"
      ]
     },
     "execution_count": 25,
     "metadata": {},
     "output_type": "execute_result"
    }
   ],
   "source": [
    "merged_data[\"DATE\"].describe()"
   ]
  },
  {
   "cell_type": "markdown",
   "id": "9d2d1a2f",
   "metadata": {},
   "source": [
    " ###### ♦ There are 365 days in a year but in the DATE column there are only 364 unique values so one is missing."
   ]
  },
  {
   "cell_type": "code",
   "execution_count": 26,
   "id": "0cf6e20a",
   "metadata": {},
   "outputs": [
    {
     "data": {
      "text/plain": [
       "DatetimeIndex(['2018-12-25'], dtype='datetime64[ns]', freq=None)"
      ]
     },
     "execution_count": 26,
     "metadata": {},
     "output_type": "execute_result"
    }
   ],
   "source": [
    "pd.date_range(start=merged_data[\"DATE\"].min(), \n",
    "              end=merged_data[\"DATE\"].max()).difference(merged_data[\"DATE\"])"
   ]
  },
  {
   "cell_type": "markdown",
   "id": "bfc94fa9",
   "metadata": {},
   "source": [
    "        ♦ Using the difference method we see that 2018-12-25 was a missing date"
   ]
  },
  {
   "cell_type": "code",
   "execution_count": 27,
   "id": "e7d64c5c",
   "metadata": {},
   "outputs": [],
   "source": [
    "check_null_date = pd.merge(pd.Series(pd.date_range(start=merged_data[\"DATE\"].min(), \n",
    "                                                   end = merged_data[\"DATE\"].max()), \n",
    "                                     name=\"DATE\"), merged_data, on = \"DATE\", how = \"left\")"
   ]
  },
  {
   "cell_type": "code",
   "execution_count": 28,
   "id": "2551a898",
   "metadata": {},
   "outputs": [
    {
     "ename": "AttributeError",
     "evalue": "module 'pandas' has no attribute 'datetime'",
     "output_type": "error",
     "traceback": [
      "\u001b[1;31m---------------------------------------------------------------------------\u001b[0m",
      "\u001b[1;31mAttributeError\u001b[0m                            Traceback (most recent call last)",
      "Cell \u001b[1;32mIn[28], line 2\u001b[0m\n\u001b[0;32m      1\u001b[0m trans_by_date \u001b[38;5;241m=\u001b[39m check_null_date[\u001b[38;5;124m\"\u001b[39m\u001b[38;5;124mDATE\u001b[39m\u001b[38;5;124m\"\u001b[39m]\u001b[38;5;241m.\u001b[39mvalue_counts()\n\u001b[1;32m----> 2\u001b[0m dec \u001b[38;5;241m=\u001b[39m trans_by_date[(trans_by_date\u001b[38;5;241m.\u001b[39mindex \u001b[38;5;241m>\u001b[39m\u001b[38;5;241m=\u001b[39m \u001b[43mpd\u001b[49m\u001b[38;5;241;43m.\u001b[39;49m\u001b[43mdatetime\u001b[49m(\u001b[38;5;241m2018\u001b[39m,\u001b[38;5;241m12\u001b[39m,\u001b[38;5;241m1\u001b[39m)) \u001b[38;5;241m&\u001b[39m (trans_by_date\u001b[38;5;241m.\u001b[39mindex \u001b[38;5;241m<\u001b[39m pd\u001b[38;5;241m.\u001b[39mdatetime(\u001b[38;5;241m2019\u001b[39m,\u001b[38;5;241m1\u001b[39m,\u001b[38;5;241m1\u001b[39m))]\u001b[38;5;241m.\u001b[39msort_index()\n\u001b[0;32m      3\u001b[0m dec\u001b[38;5;241m.\u001b[39mindex \u001b[38;5;241m=\u001b[39m dec\u001b[38;5;241m.\u001b[39mindex\u001b[38;5;241m.\u001b[39mstrftime(\u001b[38;5;124m'\u001b[39m\u001b[38;5;132;01m%d\u001b[39;00m\u001b[38;5;124m'\u001b[39m)\n\u001b[0;32m      4\u001b[0m ax \u001b[38;5;241m=\u001b[39m dec\u001b[38;5;241m.\u001b[39mplot(figsize\u001b[38;5;241m=\u001b[39m(\u001b[38;5;241m15\u001b[39m,\u001b[38;5;241m3\u001b[39m), color\u001b[38;5;241m=\u001b[39m\u001b[38;5;124m'\u001b[39m\u001b[38;5;124morange\u001b[39m\u001b[38;5;124m'\u001b[39m)\n",
      "\u001b[1;31mAttributeError\u001b[0m: module 'pandas' has no attribute 'datetime'"
     ]
    }
   ],
   "source": [
    "trans_by_date = check_null_date[\"DATE\"].value_counts()\n",
    "dec = trans_by_date[(trans_by_date.index >= pd.datetime(2018,12,1)) & (trans_by_date.index < pd.datetime(2019,1,1))].sort_index()\n",
    "dec.index = dec.index.strftime('%d')\n",
    "ax = dec.plot(figsize=(15,3), color='orange')\n",
    "ax.set_xticks(np.arange(len(dec)))\n",
    "ax.set_xticklabels(dec.index)\n",
    "plt.title(\"Sales of December 2018\", fontsize=20, fontweight='bold', color='brown')\n",
    "plt.xlabel(\"Date\", fontsize=15, fontweight='bold', color='brown')\n",
    "plt.ylabel(\"Number of Sales\", fontsize=10, fontweight='bold', color='brown')\n",
    "plt.savefig(\"Sales of December 2018.png\", bbox_inches=\"tight\")\n",
    "plt.grid()\n",
    "plt.legend()\n",
    "plt.show()"
   ]
  },
  {
   "cell_type": "code",
   "execution_count": null,
   "id": "e257d356",
   "metadata": {},
   "outputs": [],
   "source": [
    "check_null_date[\"DATE\"].value_counts().sort_values().head()"
   ]
  },
  {
   "cell_type": "markdown",
   "id": "0efdf370",
   "metadata": {},
   "source": [
    "###### The day with no transaction is a Christmas Day (25th December). That is when the store is closed. So there is no anomaly in this."
   ]
  },
  {
   "cell_type": "markdown",
   "id": "33b41e69",
   "metadata": {},
   "source": [
    "#### Analyzing Packet sizes"
   ]
  },
  {
   "cell_type": "code",
   "execution_count": null,
   "id": "ebe5b2bd",
   "metadata": {},
   "outputs": [],
   "source": [
    "merged_data[\"PROD_NAME\"] = merged_data[\"PROD_NAME\"].str.replace(r'[0-9]+(G)','g')\n",
    "pack_sizes = merged_data[\"PROD_NAME\"].str.extract(r'([0-9]+[gG])')[0].str.replace(\"g\",\"\").astype(\"float\")\n",
    "\n",
    "print(\"\\n ----- Statistical Summary ----- \\n\")\n",
    "print(pack_sizes.describe())\n",
    "\n",
    "print(\"\\n ----- Value Counts ----- \\n\")\n",
    "print(pack_sizes.value_counts())\n",
    "\n",
    "print(\"\\n ----- Histogram of Packet sizes ----- \\n\")\n",
    "pack_sizes.plot.hist()\n",
    "plt.show()"
   ]
  },
  {
   "cell_type": "code",
   "execution_count": null,
   "id": "f68e5a51",
   "metadata": {},
   "outputs": [],
   "source": [
    "merged_data[\"PROD_NAME\"].str.split().str[0].value_counts().sort_index()"
   ]
  },
  {
   "cell_type": "markdown",
   "id": "a42e1ede",
   "metadata": {},
   "source": [
    "      ♦ Some product names are written in more than one way. Example : Dorito and Doritos, Grains and GrnWves, Infusions and Ifzns, Natural and NCC, Red and RRD, Smith and Smiths and Snbts and Sunbites."
   ]
  },
  {
   "cell_type": "code",
   "execution_count": null,
   "id": "70309aef",
   "metadata": {},
   "outputs": [],
   "source": [
    "merged_data[\"PROD_NAME\"].str.split()[merged_data[\"PROD_NAME\"].str.split().str[0] == \"Red\"].value_counts()"
   ]
  },
  {
   "cell_type": "code",
   "execution_count": null,
   "id": "9e2a261e",
   "metadata": {},
   "outputs": [],
   "source": [
    "merged_data[\"Cleaned_Brand_Names\"] = merged_data[\"PROD_NAME\"].str.split().str[0]"
   ]
  },
  {
   "cell_type": "code",
   "execution_count": null,
   "id": "8b0173f0",
   "metadata": {},
   "outputs": [],
   "source": [
    "def clean_brand_names(line):\n",
    "    brand = line[\"Cleaned_Brand_Names\"]\n",
    "    if brand == \"Dorito\":\n",
    "        return \"Doritos\"\n",
    "    elif brand == \"GrnWves\" or brand == \"Grain\":\n",
    "        return \"Grain Waves\"\n",
    "    elif brand == \"Infzns\":\n",
    "        return \"Infuzions\"\n",
    "    elif brand == \"Natural\" or brand == \"NCC\":\n",
    "        return \"Natural Chip Co\"\n",
    "    elif brand == \"Red\":\n",
    "        return \"RRD\"\n",
    "    elif brand == \"Smith\":\n",
    "        return \"Smiths\"\n",
    "    elif brand == \"Snbts\":\n",
    "        return \"Sunbites\"\n",
    "    elif brand == \"WW\":\n",
    "        return \"Woolworths\"\n",
    "    else:\n",
    "        return brand"
   ]
  },
  {
   "cell_type": "code",
   "execution_count": null,
   "id": "7433b9e1",
   "metadata": {},
   "outputs": [],
   "source": [
    "merged_data[\"Cleaned_Brand_Names\"] = merged_data.apply(lambda line: clean_brand_names(line), axis=1)"
   ]
  },
  {
   "cell_type": "code",
   "execution_count": null,
   "id": "c4269c54",
   "metadata": {},
   "outputs": [],
   "source": [
    "merged_data[\"Cleaned_Brand_Names\"].value_counts(ascending=True).plot.barh(figsize=(15,8), color='darkgoldenrod')\n",
    "plt.title(\"Brand Name\", fontsize=25, fontweight='bold', color='olive')\n",
    "plt.grid(color='olive', linestyle='--')\n",
    "plt.savefig(\"Brand Names.png\", bbox_inches=\"tight\")\n",
    "plt.show()"
   ]
  },
  {
   "cell_type": "code",
   "execution_count": null,
   "id": "3024992a",
   "metadata": {},
   "outputs": [],
   "source": [
    "sns.heatmap(merged_data.isnull())\n",
    "plt.show()"
   ]
  },
  {
   "cell_type": "code",
   "execution_count": null,
   "id": "64acb757",
   "metadata": {},
   "outputs": [],
   "source": [
    "merged_data.isnull().sum()"
   ]
  },
  {
   "cell_type": "markdown",
   "id": "df0140e2",
   "metadata": {},
   "source": [
    "#### Questions :-\n",
    "        ♦ Who spends the most on chips (total sales), describing customers by lifestage and how premium their general purchasing behaviour is ?\n",
    "        ♦ How many customers are in each segment ?\n",
    "        ♦ How many chips are bought per customer by segment ?\n",
    "        ♦ What is the average chip price by customer segment ? "
   ]
  },
  {
   "cell_type": "code",
   "execution_count": null,
   "id": "70eba7ad",
   "metadata": {},
   "outputs": [],
   "source": [
    "grouped_sales = pd.DataFrame(merged_data.groupby([\"LIFESTAGE\", \"PREMIUM_CUSTOMER\"])[\"TOT_SALES\"].agg([\"sum\", \"mean\"]))\n",
    "grouped_sales.sort_values(ascending=False, by=\"sum\")"
   ]
  },
  {
   "cell_type": "code",
   "execution_count": null,
   "id": "db77d3cc",
   "metadata": {},
   "outputs": [],
   "source": [
    "grouped_sales[\"sum\"].sum()"
   ]
  },
  {
   "cell_type": "code",
   "execution_count": null,
   "id": "5dd471d8",
   "metadata": {},
   "outputs": [],
   "source": [
    "grouped_sales[\"sum\"].sort_values().plot.barh(figsize=(15,8), color='darkgoldenrod')\n",
    "plt.grid(color='olive', linestyle='--')\n",
    "plt.show()"
   ]
  },
  {
   "cell_type": "code",
   "execution_count": null,
   "id": "9285e206",
   "metadata": {},
   "outputs": [],
   "source": [
    "# Values of each group\n",
    "bars1 = grouped_sales[grouped_sales.index.get_level_values(\"PREMIUM_CUSTOMER\") == \"Budget\"][\"sum\"]\n",
    "bars2 = grouped_sales[grouped_sales.index.get_level_values(\"PREMIUM_CUSTOMER\") == \"Mainstream\"][\"sum\"]\n",
    "bars3 = grouped_sales[grouped_sales.index.get_level_values(\"PREMIUM_CUSTOMER\") == \"Premium\"][\"sum\"]\n",
    " \n",
    "bars1_text = (bars1 / sum(grouped_sales[\"sum\"])).apply(\"{:.1%}\".format)\n",
    "bars2_text = (bars2 / sum(grouped_sales[\"sum\"])).apply(\"{:.1%}\".format)\n",
    "bars3_text = (bars3 / sum(grouped_sales[\"sum\"])).apply(\"{:.1%}\".format)\n",
    " \n",
    "# Names of group and bar width\n",
    "names = grouped_sales.index.get_level_values(\"LIFESTAGE\").unique()\n",
    "\n",
    "# The position of the bars on the x-axis\n",
    "r = np.arange(len(names))\n",
    "\n",
    "plt.figure(figsize=(13,5)) \n",
    "\n",
    "# Create brown bars\n",
    "budget_bar = plt.barh(r, bars1, edgecolor='grey', height=1, label=\"Budget\")\n",
    "# Create green bars (middle), on top of the firs ones\n",
    "mains_bar = plt.barh(r, bars2, left=bars1, edgecolor='grey', height=1, label=\"Mainstream\")\n",
    "# Create green bars (top)\n",
    "tmp_bar = np.add(bars1, bars2)\n",
    "prem_bar = plt.barh(r, bars3, left=bars2, edgecolor='grey', height=1, label=\"Premium\")\n",
    "\n",
    "for i in range(7):\n",
    "    budget_width = budget_bar[i].get_width()\n",
    "    budget_main_width = budget_width + mains_bar[i].get_width()\n",
    "    plt.text(budget_width/2, i, bars1_text[i], va='center', ha='center', size=8)\n",
    "    plt.text(budget_width + mains_bar[i].get_width()/2, i, bars2_text[i], va='center', ha='center', size=8)\n",
    "    plt.text(budget_main_width + prem_bar[i].get_width()/2, i, bars3_text[i], va='center', ha='center', size=8)\n",
    "    \n",
    "# Custom X axis\n",
    "plt.yticks(r, names)\n",
    "plt.ylabel(\"LIFESTAGE\")\n",
    "plt.xlabel(\"TOTAL SALES\")\n",
    "plt.legend(loc='center left', bbox_to_anchor=(1.0, 0.5))\n",
    "\n",
    "plt.title(\"Total Sales per Lifestage\")\n",
    "\n",
    "plt.savefig(\"lifestage_sales.png\", bbox_inches=\"tight\")\n",
    "\n",
    "# Show graphic\n",
    "plt.show()"
   ]
  },
  {
   "cell_type": "code",
   "execution_count": null,
   "id": "70dfaebd",
   "metadata": {},
   "outputs": [],
   "source": [
    "stage_agg_prem = merged_data.groupby(\"LIFESTAGE\")[\"PREMIUM_CUSTOMER\"].agg(pd.Series.mode).sort_values()\n",
    "print(\"\\n ----- Top contributor per LIFESTAGE by PREMIUM category ----- \\n\")\n",
    "print(stage_agg_prem)"
   ]
  },
  {
   "cell_type": "markdown",
   "id": "6255ea02",
   "metadata": {},
   "source": [
    "#### The top 3 total sales contributor segment are (in order) :-\n",
    "\n",
    "                1. Older families (Budget) $156,864\n",
    "            2. Young Singles/Couples (Mainstream) $147,582\n",
    "                3. Retirees (Mainstream) $145,169"
   ]
  },
  {
   "cell_type": "code",
   "execution_count": null,
   "id": "b38fbf9f",
   "metadata": {},
   "outputs": [],
   "source": [
    "unique_cust = merged_data.groupby([\"LIFESTAGE\", \"PREMIUM_CUSTOMER\"])[\"LYLTY_CARD_NBR\"].nunique().sort_values(ascending=False)\n",
    "pd.DataFrame(unique_cust)"
   ]
  },
  {
   "cell_type": "code",
   "execution_count": null,
   "id": "515f37fd",
   "metadata": {},
   "outputs": [],
   "source": [
    "unique_cust.sort_values().plot.barh(figsize=(15,8), color='darkgoldenrod')\n",
    "plt.grid(color='olive', linestyle='--')\n",
    "plt.show()"
   ]
  },
  {
   "cell_type": "code",
   "execution_count": null,
   "id": "d060ee4a",
   "metadata": {},
   "outputs": [],
   "source": [
    "# Values of each group\n",
    "ncust_bars1 = unique_cust[unique_cust.index.get_level_values(\"PREMIUM_CUSTOMER\") == \"Budget\"]\n",
    "ncust_bars2 = unique_cust[unique_cust.index.get_level_values(\"PREMIUM_CUSTOMER\") == \"Mainstream\"]\n",
    "ncust_bars3 = unique_cust[unique_cust.index.get_level_values(\"PREMIUM_CUSTOMER\") == \"Premium\"]\n",
    " \n",
    "ncust_bars1_text = (ncust_bars1 / sum(unique_cust)).apply(\"{:.1%}\".format)\n",
    "ncust_bars2_text = (ncust_bars2 / sum(unique_cust)).apply(\"{:.1%}\".format)\n",
    "ncust_bars3_text = (ncust_bars3 / sum(unique_cust)).apply(\"{:.1%}\".format)\n",
    " \n",
    "# # Names of group and bar width\n",
    "#names = unique_cust.index.get_level_values(\"LIFESTAGE\").unique()\n",
    "\n",
    "# # The position of the bars on the x-axis\n",
    "#r = np.arange(len(names))\n",
    "\n",
    "plt.figure(figsize=(13,5)) \n",
    "\n",
    "# # Create brown bars\n",
    "budget_bar = plt.barh(r, ncust_bars1, edgecolor='grey', height=1, label=\"Budget\")\n",
    "# # Create green bars (middle), on top of the firs ones\n",
    "mains_bar = plt.barh(r, ncust_bars2, left=ncust_bars1, edgecolor='grey', height=1, label=\"Mainstream\")\n",
    "# # Create green bars (top)\n",
    "prem_bar = plt.barh(r, ncust_bars3, left=ncust_bars2, edgecolor='grey', height=1, label=\"Premium\")\n",
    "\n",
    "for i in range(7):\n",
    "    budget_width = budget_bar[i].get_width()\n",
    "    budget_main_width = budget_width + mains_bar[i].get_width()\n",
    "    plt.text(budget_width/2, i, ncust_bars1_text[i], va='center', ha='center', size=8)\n",
    "    plt.text(budget_width + mains_bar[i].get_width()/2, i, ncust_bars2_text[i], va='center', ha='center', size=8)\n",
    "    plt.text(budget_main_width + prem_bar[i].get_width()/2, i, ncust_bars3_text[i], va='center', ha='center', size=8)\n",
    "    \n",
    "# Custom X axis\n",
    "plt.yticks(r, names)\n",
    "plt.ylabel(\"Lifestage\", fontsize=15, fontweight='bold', color='darkgoldenrod')\n",
    "plt.xlabel(\"Unique Customers\", fontsize=15, fontweight='bold', color='darkgoldenrod')\n",
    "plt.legend(loc='center left', bbox_to_anchor=(1.0, 0.5))\n",
    "\n",
    "plt.title(\"Unique Customers per Lifestage\", fontsize=20, fontweight='bold', color='darkgoldenrod')\n",
    "\n",
    "plt.savefig(\"lifestage_customers.png\", bbox_inches=\"tight\")\n",
    "\n",
    "# View\n",
    "plt.show()"
   ]
  },
  {
   "cell_type": "markdown",
   "id": "4a49f5c8",
   "metadata": {},
   "source": [
    "###### The high sales amount by segment \"Young Singles/Couples - Mainstream\" and \"Retirees - Mainstream\" are due to their large number of unique customers, but not for the \"Older - Budget\" segment. Next we'll analyze if the \"Older - Budget\" segment has:\n",
    "\n",
    "###### High Frequency of Purchase and Average Sales per Customer compared to the other segment."
   ]
  },
  {
   "cell_type": "code",
   "execution_count": null,
   "id": "d3b85173",
   "metadata": {},
   "outputs": [],
   "source": [
    "freq_per_cust = merged_data.groupby([\"LYLTY_CARD_NBR\", \"LIFESTAGE\", \"PREMIUM_CUSTOMER\"]).count()[\"DATE\"]\n",
    "freq_per_cust.groupby([\"LIFESTAGE\", \"PREMIUM_CUSTOMER\"]).agg([\"mean\", \"count\"]).sort_values(ascending=False, by=\"mean\")"
   ]
  },
  {
   "cell_type": "markdown",
   "id": "099c71be",
   "metadata": {},
   "source": [
    "           •♦• The above table describes the \"Average frequency of Purchase per segment\" and \"Unique customer per segment\". The top three most frequent purchase is contributed by the \"Older Families\" lifestage segment. We can see now that the \"Older - Budget\" segment contributes to high sales partly because of the combination of:\n",
    "\n",
    "High Frequency of Purchase and, Fairly high unique number of customer in the segment"
   ]
  },
  {
   "cell_type": "code",
   "execution_count": null,
   "id": "253e728b",
   "metadata": {},
   "outputs": [],
   "source": [
    "grouped_sales.sort_values(ascending=False, by=\"mean\")"
   ]
  },
  {
   "cell_type": "markdown",
   "id": "6356f23f",
   "metadata": {},
   "source": [
    "        •♦• Highest average spending per purchase are contributed by the Midage and Young \"Singles/Couples\". The difference between their Mainstream and Non-Mainstream group might seem insignificant (7.6 vs 6.6), but we'll find out by examining if the difference is statistically significant."
   ]
  },
  {
   "cell_type": "code",
   "execution_count": null,
   "id": "82b76cff",
   "metadata": {},
   "outputs": [],
   "source": [
    "from scipy.stats import ttest_ind\n",
    "mainstream = merged_data[\"PREMIUM_CUSTOMER\"] == \"Mainstream\"\n",
    "young_midage = (merged_data[\"LIFESTAGE\"] == \"MIDAGE SINGLES/COUPLES\") | (merged_data[\"LIFESTAGE\"] == \"YOUNG SINGLES/COUPLES\")\n",
    "\n",
    "budget_premium = (merged_data[\"PREMIUM_CUSTOMER\"] == \"Budget\") | (merged_data[\"PREMIUM_CUSTOMER\"] == \"Premium\")\n",
    "\n",
    "a = merged_data[young_midage & mainstream][\"TOT_SALES\"]\n",
    "b = merged_data[young_midage & budget_premium][\"TOT_SALES\"]\n",
    "stat, pval = ttest_ind(a.values, b.values, equal_var=False)\n",
    "\n",
    "print(pval)\n",
    "pval < 0.0000001"
   ]
  },
  {
   "cell_type": "markdown",
   "id": "9943595a",
   "metadata": {},
   "source": [
    "       •♦• P-Value is close to 0. There is a statistically significant difference to the Total Sales between the \"Mainstream Young Midage\" segment to the \"Budget and Premium Young Midage\" segment."
   ]
  },
  {
   "cell_type": "markdown",
   "id": "2c42c569",
   "metadata": {},
   "source": [
    "Next, let's look examine what brand of chips the top 3 segments contributing to Total Sales are buying."
   ]
  },
  {
   "cell_type": "code",
   "execution_count": null,
   "id": "865e7f2c",
   "metadata": {},
   "outputs": [],
   "source": [
    "merged_data.groupby([\"LIFESTAGE\", \"PREMIUM_CUSTOMER\"])[\"Cleaned_Brand_Names\"].agg(pd.Series.mode).sort_values()"
   ]
  },
  {
   "cell_type": "code",
   "execution_count": null,
   "id": "4cb75508",
   "metadata": {},
   "outputs": [],
   "source": [
    "for stage in merged_data[\"LIFESTAGE\"].unique():\n",
    "    for prem in merged_data[\"PREMIUM_CUSTOMER\"].unique():\n",
    "        print(\"----------\",stage, '-', prem,\"----------\\n\")\n",
    "        summary = merged_data[(merged_data[\"LIFESTAGE\"] == stage) \n",
    "                              & (merged_data[\"PREMIUM_CUSTOMER\"] == prem)][\"Cleaned_Brand_Names\"].value_counts().head(3)\n",
    "        print(summary)\n",
    "        plt.figure()\n",
    "        summary.plot.barh(figsize=(6,2), color='orangered')\n",
    "        plt.show()"
   ]
  },
  {
   "cell_type": "markdown",
   "id": "d8220cac",
   "metadata": {},
   "source": [
    "    •♦• Every segment had Kettle as the most purchased brand. Every segment except \"YOUNG SINGLES/COUPLES Mainstream\" had Smiths as their second most purchased brand. \"YOUNG SINGLES/COUPLES Mainstream\" had Doritos as their second most purchased brand."
   ]
  },
  {
   "cell_type": "code",
   "execution_count": null,
   "id": "ff8b3102",
   "metadata": {},
   "outputs": [],
   "source": [
    "from mlxtend.frequent_patterns import apriori\n",
    "from mlxtend.frequent_patterns import association_rules\n",
    "\n",
    "temp = merged_data.reset_index().rename(columns = {\"index\": \"transaction\"})\n",
    "temp[\"Segment\"] = temp[\"LIFESTAGE\"] + ' - ' + temp['PREMIUM_CUSTOMER']\n",
    "segment_brand_encode = pd.concat([pd.get_dummies(temp[\"Segment\"]), pd.get_dummies(temp[\"Cleaned_Brand_Names\"])], axis=1)\n",
    "\n",
    "frequent_sets = apriori(segment_brand_encode, min_support=0.01, use_colnames=True)\n",
    "rules = association_rules(frequent_sets, metric=\"lift\", min_threshold=1)\n",
    "\n",
    "set_temp = temp[\"Segment\"].unique()\n",
    "rules[rules[\"antecedents\"].apply(lambda x: list(x)).apply(lambda x: x in set_temp)]"
   ]
  },
  {
   "cell_type": "markdown",
   "id": "1133a29a",
   "metadata": {},
   "source": [
    "        •♦• By looking at our a-priori analysis, we can conclude that Kettle is the brand of choice for most segment."
   ]
  },
  {
   "cell_type": "markdown",
   "id": "456c6b02",
   "metadata": {},
   "source": [
    "Next, we'll find out the pack size preferences of different segments"
   ]
  },
  {
   "cell_type": "code",
   "execution_count": null,
   "id": "830cb8e6",
   "metadata": {},
   "outputs": [],
   "source": [
    "merged_pack = pd.concat([merged_data, pack_sizes.rename(\"Pack_Size\")], axis=1)\n",
    "\n",
    "for stage in merged_data[\"LIFESTAGE\"].unique():\n",
    "    for prem in merged_data[\"PREMIUM_CUSTOMER\"].unique():\n",
    "        print(\"----------\",stage, '-', prem,\"----------\\n\")\n",
    "        summary = merged_pack[(merged_pack[\"LIFESTAGE\"] == stage) \n",
    "                              & (merged_pack[\"PREMIUM_CUSTOMER\"] == prem)][\"Pack_Size\"].value_counts().head(3).sort_index()\n",
    "        print(summary)\n",
    "        plt.figure()\n",
    "        summary.plot.barh(figsize=(6,2), color='olive')\n",
    "        plt.show()"
   ]
  },
  {
   "cell_type": "code",
   "execution_count": null,
   "id": "f813da9f",
   "metadata": {},
   "outputs": [],
   "source": [
    "(temp.groupby([\"LIFESTAGE\", \"PREMIUM_CUSTOMER\"])[\"PROD_QTY\"].sum() \n",
    " / temp.groupby([\"LIFESTAGE\", \"PREMIUM_CUSTOMER\"])[\"LYLTY_CARD_NBR\"].nunique()).sort_values(ascending=False)"
   ]
  },
  {
   "cell_type": "code",
   "execution_count": null,
   "id": "988d1b90",
   "metadata": {},
   "outputs": [],
   "source": [
    "(temp.groupby([\"LIFESTAGE\", \"PREMIUM_CUSTOMER\"])[\"PROD_QTY\"].sum() \n",
    " / temp.groupby([\"LIFESTAGE\", \"PREMIUM_CUSTOMER\"])[\"LYLTY_CARD_NBR\"].nunique()).unstack().plot.bar(figsize=(15,4), rot=0)\n",
    "\n",
    "plt.title(\"Average purchase quantity per segment\", fontsize=20, fontweight='bold', color='darkorange')\n",
    "plt.xlabel(\"Lifestage\", fontsize=15, fontweight='bold', color='darkorange')\n",
    "plt.legend(loc=\"center left\", bbox_to_anchor=(1.0, 0.5))\n",
    "plt.savefig(\"Average purchase quantity per segment.png\", bbox_inches=\"tight\")\n",
    "plt.show()"
   ]
  },
  {
   "cell_type": "code",
   "execution_count": null,
   "id": "4bfafb42",
   "metadata": {},
   "outputs": [],
   "source": [
    "#Average chips price per transaction by segments\n",
    "\n",
    "print(\"\\n ----- Average chips price per transaction by segments ----- \\n\")\n",
    "temp[\"Unit_Price\"] = temp[\"TOT_SALES\"] / temp[\"PROD_QTY\"]\n",
    "temp.groupby([\"Segment\"]).mean()[\"Unit_Price\"].sort_values(ascending=False)"
   ]
  },
  {
   "cell_type": "code",
   "execution_count": null,
   "id": "cee6cb8a",
   "metadata": {},
   "outputs": [],
   "source": [
    "temp.groupby([\"LIFESTAGE\", \"PREMIUM_CUSTOMER\"]).mean()[\"Unit_Price\"].unstack().plot.bar(figsize=(15,4), rot=0)\n",
    "\n",
    "plt.xlabel(\"Lifestage\", fontsize=15, fontweight='bold', color='darkorange')\n",
    "plt.legend(loc=\"center left\", bbox_to_anchor=(1,0.5))\n",
    "plt.show()"
   ]
  },
  {
   "cell_type": "code",
   "execution_count": null,
   "id": "1868c5ec",
   "metadata": {},
   "outputs": [],
   "source": [
    "z = temp.groupby([\"Segment\", \"Cleaned_Brand_Names\"]).sum()[\"TOT_SALES\"].sort_values(ascending=False).reset_index()\n",
    "z[z[\"Segment\"] == \"YOUNG SINGLES/COUPLES - Mainstream\"]"
   ]
  },
  {
   "cell_type": "markdown",
   "id": "8411a72f",
   "metadata": {},
   "source": [
    "## Insights from Data :-\n",
    "\n",
    "        Top 3 total sales contributor segment are :-\n",
    "        \n",
    "                                                    i. Older families (Budget) $156,864\n",
    "                                               ii. Young Singles/Couples (Mainstream) $147,582\n",
    "                                                  iii. Retirees (Mainstream) $145,169                                                  \n",
    "                                                  \n",
    "    •♦• Young Singles/Couples (Mainstream) has the highest population, followed by Retirees (Mainstream). Which explains their high total sales.\n",
    "    \n",
    "    •♦• Despite Older Families not having the highest population, they have the highest frequency of purchase, which contributes to their high total sales.\n",
    "    \n",
    "    •♦• Older Families followed by Young Families has the highest average quantity of chips bought per purchase.\n",
    "    \n",
    "    •♦• The Mainstream category of the \"Young and Midage Singles/Couples\" have the highest spending of chips per purchase. And the difference to the non-Mainstream \"Young and Midage Singles/Couples\" are statistically significant.\n",
    "    \n",
    "    •♦• Chips brand Kettle is dominating every segment as the most purchased brand.\n",
    "    \n",
    "    •♦• Observing the 2nd most purchased brand, \"Young and Midage Singles/Couples\" is the only segment with a different preference (Doritos) as compared to others' (Smiths).\n",
    "    \n",
    "    •♦• Most frequent chip size purchased is 175gr followed by the 150gr chip size for all segments."
   ]
  },
  {
   "cell_type": "markdown",
   "id": "d9efba99",
   "metadata": {},
   "source": [
    "## Future Recommendations :-\n",
    "\n",
    "        •♦• Older Families: Focus on the Budget segment. Strength: Frequent purchase. We can give promotions that encourages more frequency of purchase. Strength: High quantity of chips purchased per visit. We can give promotions that encourage them to buy more quantity of chips per purchase.\n",
    "        \n",
    "        •♦• Young Singles/Couples: Focus on the Mainstream segment. This segment is the only segment that had Doritos as their 2nd most purchased brand (after Kettle). To specifically target this segment it might be a good idea to collaborate with Doritos merchant to do some branding promotion catered to \"Young Singles/Couples - Mainstream\" segment. Strength: Population quantity. We can spend more effort on making sure our promotions reach them, and it reaches them frequently.\n",
    "        \n",
    "        •♦• Retirees: Focus on the Mainstream segment. Strength: Population quantity. Again, since their population quantity is the contributor to the high total sales, we should spend more effort on making sure our promotions reaches as many of them as possible and frequent.\n",
    "        \n",
    "        •♦• General: All segments has Kettle as the most frequently purchased brand and 175gr (regardless of brand) followed by 150gr as the preferred chip size. When promoting chips in general to all segments it is good to take advantage of these two points."
   ]
  },
  {
   "cell_type": "markdown",
   "id": "d3926fe6",
   "metadata": {},
   "source": [
    "                                                            •♦•♦•♦•"
   ]
  }
 ],
 "metadata": {
  "kernelspec": {
   "display_name": "Python 3 (ipykernel)",
   "language": "python",
   "name": "python3"
  },
  "language_info": {
   "codemirror_mode": {
    "name": "ipython",
    "version": 3
   },
   "file_extension": ".py",
   "mimetype": "text/x-python",
   "name": "python",
   "nbconvert_exporter": "python",
   "pygments_lexer": "ipython3",
   "version": "3.11.1"
  }
 },
 "nbformat": 4,
 "nbformat_minor": 5
}
